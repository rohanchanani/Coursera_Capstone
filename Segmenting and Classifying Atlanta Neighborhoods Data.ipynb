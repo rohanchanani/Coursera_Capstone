{
 "cells": [
  {
   "cell_type": "markdown",
   "metadata": {},
   "source": [
    "<h1> Segmenting and Classifying Atlanta Neighborhoods <h1>"
   ]
  },
  {
   "cell_type": "code",
   "execution_count": 4,
   "metadata": {},
   "outputs": [],
   "source": [
    "import pandas as pd\n",
    "import numpy as np\n",
    "import requests\n",
    "from pandas.io.json import json_normalize \n",
    "import json"
   ]
  },
  {
   "cell_type": "markdown",
   "metadata": {},
   "source": [
    "<h2>Introduction-The Problem<h2>"
   ]
  },
  {
   "cell_type": "markdown",
   "metadata": {},
   "source": [
    "In Atlanta, crime is a major issue. With a crime rate of 58 per 1000 residents, Atlanta is in the 2nd percentile for safety in the United States, meaning it is only safer than 2% of cities in the United States. It's violent crime rate is double the national average. I want to see if there's a meaningful correlation between the venues in a neighborhood and the crime that occurs within that neighborhood.(statistics from https://www.neighborhoodscout.com/ga/atlanta/crime.)"
   ]
  },
  {
   "cell_type": "markdown",
   "metadata": {},
   "source": [
    "<h2>The Data<h2>"
   ]
  },
  {
   "cell_type": "markdown",
   "metadata": {},
   "source": [
    "I will be using data from two sources: Foursquare and the Atlanta Police Department"
   ]
  },
  {
   "cell_type": "markdown",
   "metadata": {},
   "source": [
    "<h3>Foursquare Location Data<h3>"
   ]
  },
  {
   "cell_type": "markdown",
   "metadata": {},
   "source": [
    "I will be making explore calls using the foursquare API to get location data about each neighborhood. Explore calls return information about a specified number of venues around a specified Latitude and Longitude within a specified radius. Explore calls return lots of information about each venue, but we will only be using the venue's category. Below is an example dataframe with 20 venues within 500m of Atlanta itself."
   ]
  },
  {
   "cell_type": "code",
   "execution_count": 7,
   "metadata": {},
   "outputs": [
    {
     "name": "stderr",
     "output_type": "stream",
     "text": [
      "<ipython-input-7-c6d8ac1c3da2>:23: FutureWarning: pandas.io.json.json_normalize is deprecated, use pandas.json_normalize instead\n",
      "  nearby_venues = json_normalize(venues) # flatten JSON\n"
     ]
    },
    {
     "data": {
      "text/html": [
       "<div>\n",
       "<style scoped>\n",
       "    .dataframe tbody tr th:only-of-type {\n",
       "        vertical-align: middle;\n",
       "    }\n",
       "\n",
       "    .dataframe tbody tr th {\n",
       "        vertical-align: top;\n",
       "    }\n",
       "\n",
       "    .dataframe thead th {\n",
       "        text-align: right;\n",
       "    }\n",
       "</style>\n",
       "<table border=\"1\" class=\"dataframe\">\n",
       "  <thead>\n",
       "    <tr style=\"text-align: right;\">\n",
       "      <th></th>\n",
       "      <th>name</th>\n",
       "      <th>categories</th>\n",
       "      <th>lat</th>\n",
       "      <th>lng</th>\n",
       "    </tr>\n",
       "  </thead>\n",
       "  <tbody>\n",
       "    <tr>\n",
       "      <th>0</th>\n",
       "      <td>The Masquerade</td>\n",
       "      <td>Music Venue</td>\n",
       "      <td>33.751720</td>\n",
       "      <td>-84.389739</td>\n",
       "    </tr>\n",
       "    <tr>\n",
       "      <th>1</th>\n",
       "      <td>GSU Sports Arena</td>\n",
       "      <td>College Basketball Court</td>\n",
       "      <td>33.751735</td>\n",
       "      <td>-84.386328</td>\n",
       "    </tr>\n",
       "    <tr>\n",
       "      <th>2</th>\n",
       "      <td>Georgia Railroad Freight Depot</td>\n",
       "      <td>Event Space</td>\n",
       "      <td>33.751479</td>\n",
       "      <td>-84.388224</td>\n",
       "    </tr>\n",
       "    <tr>\n",
       "      <th>3</th>\n",
       "      <td>Willy's Mexicana Grill #22</td>\n",
       "      <td>Mexican Restaurant</td>\n",
       "      <td>33.751293</td>\n",
       "      <td>-84.385337</td>\n",
       "    </tr>\n",
       "    <tr>\n",
       "      <th>4</th>\n",
       "      <td>Jamrock Restaurant</td>\n",
       "      <td>Caribbean Restaurant</td>\n",
       "      <td>33.751554</td>\n",
       "      <td>-84.391356</td>\n",
       "    </tr>\n",
       "  </tbody>\n",
       "</table>\n",
       "</div>"
      ],
      "text/plain": [
       "                             name                categories        lat  \\\n",
       "0                  The Masquerade               Music Venue  33.751720   \n",
       "1                GSU Sports Arena  College Basketball Court  33.751735   \n",
       "2  Georgia Railroad Freight Depot               Event Space  33.751479   \n",
       "3      Willy's Mexicana Grill #22        Mexican Restaurant  33.751293   \n",
       "4              Jamrock Restaurant      Caribbean Restaurant  33.751554   \n",
       "\n",
       "         lng  \n",
       "0 -84.389739  \n",
       "1 -84.386328  \n",
       "2 -84.388224  \n",
       "3 -84.385337  \n",
       "4 -84.391356  "
      ]
     },
     "execution_count": 7,
     "metadata": {},
     "output_type": "execute_result"
    }
   ],
   "source": [
    "CLIENT_ID = 'Z2BADHUK0WDYPWNCJKJ11VB5EREKVKIKZMD5JR5NO4IB2QV3'\n",
    "CLIENT_SECRET = 'IZ1T1SGBG3HPOHRG4JE20IDOV1ITJFTCBVLEMAGC1D1HVUDF'\n",
    "VERSION = '20201127'\n",
    "LATITUDE = 33.7490\n",
    "LONGITUDE = -84.3880\n",
    "RADIUS = 500\n",
    "LIMIT = 20\n",
    "url = 'https://api.foursquare.com/v2/venues/explore?client_id={}&client_secret={}&v={}&ll={},{}&radius={}&limit={}'.format(CLIENT_ID, CLIENT_SECRET, VERSION, LATITUDE, LONGITUDE, RADIUS, LIMIT)\n",
    "results = requests.get(url).json()\n",
    "def get_category_type(row):\n",
    "    try:\n",
    "        categories_list = row['categories']\n",
    "    except:\n",
    "        categories_list = row['venue.categories']\n",
    "        \n",
    "    if len(categories_list) == 0:\n",
    "        return None\n",
    "    else:\n",
    "        return categories_list[0]['name']\n",
    "    \n",
    "venues = results['response']['groups'][0]['items']\n",
    "    \n",
    "nearby_venues = json_normalize(venues) # flatten JSON\n",
    "filtered_columns = ['venue.name', 'venue.categories', 'venue.location.lat', 'venue.location.lng']\n",
    "nearby_venues =nearby_venues.loc[:, filtered_columns]\n",
    "nearby_venues['venue.categories'] = nearby_venues.apply(get_category_type, axis=1)\n",
    "nearby_venues.columns = [col.split(\".\")[-1] for col in nearby_venues.columns]\n",
    "nearby_venues.head()"
   ]
  },
  {
   "cell_type": "markdown",
   "metadata": {},
   "source": [
    "<h3>Atlanta Police Department Data<h3>"
   ]
  },
  {
   "cell_type": "markdown",
   "metadata": {},
   "source": [
    "I will be using a csv file from the Atlanta Police Department that contains data about crimes in Atlanta from 2009-2019. Each row is a crime and the dataset's columns include a lot of information about each crime, but we will only be using the type of crime and the neighborhood the crime happened in. The columns are called UCR Literal and Neighborhood. The dataset is called COBRA-2009-2019 and can be found at https://www.atlantapd.org/i-want-to/crime-data-downloads. Below is the first 5 rows of the dataset."
   ]
  },
  {
   "cell_type": "code",
   "execution_count": 8,
   "metadata": {},
   "outputs": [
    {
     "name": "stderr",
     "output_type": "stream",
     "text": [
      "C:\\Users\\rohan\\anaconda3\\lib\\site-packages\\IPython\\core\\interactiveshell.py:3071: DtypeWarning: Columns (3,11) have mixed types.Specify dtype option on import or set low_memory=False.\n",
      "  has_raised = await self.run_ast_nodes(code_ast.body, cell_name,\n"
     ]
    },
    {
     "data": {
      "text/html": [
       "<div>\n",
       "<style scoped>\n",
       "    .dataframe tbody tr th:only-of-type {\n",
       "        vertical-align: middle;\n",
       "    }\n",
       "\n",
       "    .dataframe tbody tr th {\n",
       "        vertical-align: top;\n",
       "    }\n",
       "\n",
       "    .dataframe thead th {\n",
       "        text-align: right;\n",
       "    }\n",
       "</style>\n",
       "<table border=\"1\" class=\"dataframe\">\n",
       "  <thead>\n",
       "    <tr style=\"text-align: right;\">\n",
       "      <th></th>\n",
       "      <th>Report Number</th>\n",
       "      <th>Report Date</th>\n",
       "      <th>Occur Date</th>\n",
       "      <th>Occur Time</th>\n",
       "      <th>Possible Date</th>\n",
       "      <th>Possible Time</th>\n",
       "      <th>Beat</th>\n",
       "      <th>Apartment Office Prefix</th>\n",
       "      <th>Apartment Number</th>\n",
       "      <th>Location</th>\n",
       "      <th>Shift Occurence</th>\n",
       "      <th>Location Type</th>\n",
       "      <th>UCR Literal</th>\n",
       "      <th>UCR #</th>\n",
       "      <th>IBR Code</th>\n",
       "      <th>Neighborhood</th>\n",
       "      <th>NPU</th>\n",
       "      <th>Latitude</th>\n",
       "      <th>Longitude</th>\n",
       "    </tr>\n",
       "  </thead>\n",
       "  <tbody>\n",
       "    <tr>\n",
       "      <th>0</th>\n",
       "      <td>90010930</td>\n",
       "      <td>2009-01-01</td>\n",
       "      <td>2009-01-01</td>\n",
       "      <td>1145</td>\n",
       "      <td>2009-01-01</td>\n",
       "      <td>1148.0</td>\n",
       "      <td>411.0</td>\n",
       "      <td>NaN</td>\n",
       "      <td>NaN</td>\n",
       "      <td>2841 GREENBRIAR PKWY</td>\n",
       "      <td>Day Watch</td>\n",
       "      <td>8</td>\n",
       "      <td>LARCENY-NON VEHICLE</td>\n",
       "      <td>630</td>\n",
       "      <td>2303</td>\n",
       "      <td>Greenbriar</td>\n",
       "      <td>R</td>\n",
       "      <td>33.68845</td>\n",
       "      <td>-84.49328</td>\n",
       "    </tr>\n",
       "    <tr>\n",
       "      <th>1</th>\n",
       "      <td>90011083</td>\n",
       "      <td>2009-01-01</td>\n",
       "      <td>2009-01-01</td>\n",
       "      <td>1330</td>\n",
       "      <td>2009-01-01</td>\n",
       "      <td>1330.0</td>\n",
       "      <td>511.0</td>\n",
       "      <td>NaN</td>\n",
       "      <td>NaN</td>\n",
       "      <td>12 BROAD ST SW</td>\n",
       "      <td>Day Watch</td>\n",
       "      <td>9</td>\n",
       "      <td>LARCENY-NON VEHICLE</td>\n",
       "      <td>630</td>\n",
       "      <td>2303</td>\n",
       "      <td>Downtown</td>\n",
       "      <td>M</td>\n",
       "      <td>33.75320</td>\n",
       "      <td>-84.39201</td>\n",
       "    </tr>\n",
       "    <tr>\n",
       "      <th>2</th>\n",
       "      <td>90011208</td>\n",
       "      <td>2009-01-01</td>\n",
       "      <td>2009-01-01</td>\n",
       "      <td>1500</td>\n",
       "      <td>2009-01-01</td>\n",
       "      <td>1520.0</td>\n",
       "      <td>407.0</td>\n",
       "      <td>NaN</td>\n",
       "      <td>NaN</td>\n",
       "      <td>3500 MARTIN L KING JR DR SW</td>\n",
       "      <td>Unknown</td>\n",
       "      <td>8</td>\n",
       "      <td>LARCENY-NON VEHICLE</td>\n",
       "      <td>630</td>\n",
       "      <td>2303</td>\n",
       "      <td>Adamsville</td>\n",
       "      <td>H</td>\n",
       "      <td>33.75735</td>\n",
       "      <td>-84.50282</td>\n",
       "    </tr>\n",
       "    <tr>\n",
       "      <th>3</th>\n",
       "      <td>90011218</td>\n",
       "      <td>2009-01-01</td>\n",
       "      <td>2009-01-01</td>\n",
       "      <td>1450</td>\n",
       "      <td>2009-01-01</td>\n",
       "      <td>1510.0</td>\n",
       "      <td>210.0</td>\n",
       "      <td>NaN</td>\n",
       "      <td>NaN</td>\n",
       "      <td>3393 PEACHTREE RD NE</td>\n",
       "      <td>Evening Watch</td>\n",
       "      <td>8</td>\n",
       "      <td>LARCENY-NON VEHICLE</td>\n",
       "      <td>630</td>\n",
       "      <td>2303</td>\n",
       "      <td>Lenox</td>\n",
       "      <td>B</td>\n",
       "      <td>33.84676</td>\n",
       "      <td>-84.36212</td>\n",
       "    </tr>\n",
       "    <tr>\n",
       "      <th>4</th>\n",
       "      <td>90011289</td>\n",
       "      <td>2009-01-01</td>\n",
       "      <td>2009-01-01</td>\n",
       "      <td>1600</td>\n",
       "      <td>2009-01-01</td>\n",
       "      <td>1700.0</td>\n",
       "      <td>411.0</td>\n",
       "      <td>NaN</td>\n",
       "      <td>NaN</td>\n",
       "      <td>2841 GREENBRIAR PKWY SW</td>\n",
       "      <td>Unknown</td>\n",
       "      <td>8</td>\n",
       "      <td>LARCENY-NON VEHICLE</td>\n",
       "      <td>630</td>\n",
       "      <td>2303</td>\n",
       "      <td>Greenbriar</td>\n",
       "      <td>R</td>\n",
       "      <td>33.68677</td>\n",
       "      <td>-84.49773</td>\n",
       "    </tr>\n",
       "  </tbody>\n",
       "</table>\n",
       "</div>"
      ],
      "text/plain": [
       "   Report Number Report Date  Occur Date Occur Time Possible Date  \\\n",
       "0       90010930  2009-01-01  2009-01-01       1145    2009-01-01   \n",
       "1       90011083  2009-01-01  2009-01-01       1330    2009-01-01   \n",
       "2       90011208  2009-01-01  2009-01-01       1500    2009-01-01   \n",
       "3       90011218  2009-01-01  2009-01-01       1450    2009-01-01   \n",
       "4       90011289  2009-01-01  2009-01-01       1600    2009-01-01   \n",
       "\n",
       "   Possible Time   Beat Apartment Office Prefix Apartment Number  \\\n",
       "0         1148.0  411.0                     NaN              NaN   \n",
       "1         1330.0  511.0                     NaN              NaN   \n",
       "2         1520.0  407.0                     NaN              NaN   \n",
       "3         1510.0  210.0                     NaN              NaN   \n",
       "4         1700.0  411.0                     NaN              NaN   \n",
       "\n",
       "                      Location Shift Occurence Location Type  \\\n",
       "0         2841 GREENBRIAR PKWY       Day Watch             8   \n",
       "1               12 BROAD ST SW       Day Watch             9   \n",
       "2  3500 MARTIN L KING JR DR SW         Unknown             8   \n",
       "3         3393 PEACHTREE RD NE   Evening Watch             8   \n",
       "4      2841 GREENBRIAR PKWY SW         Unknown             8   \n",
       "\n",
       "           UCR Literal  UCR # IBR Code Neighborhood NPU  Latitude  Longitude  \n",
       "0  LARCENY-NON VEHICLE    630     2303   Greenbriar   R  33.68845  -84.49328  \n",
       "1  LARCENY-NON VEHICLE    630     2303     Downtown   M  33.75320  -84.39201  \n",
       "2  LARCENY-NON VEHICLE    630     2303   Adamsville   H  33.75735  -84.50282  \n",
       "3  LARCENY-NON VEHICLE    630     2303        Lenox   B  33.84676  -84.36212  \n",
       "4  LARCENY-NON VEHICLE    630     2303   Greenbriar   R  33.68677  -84.49773  "
      ]
     },
     "execution_count": 8,
     "metadata": {},
     "output_type": "execute_result"
    }
   ],
   "source": [
    "crime_df = pd.read_csv('Atlanta_crime.csv')\n",
    "crime_df.head()"
   ]
  }
 ],
 "metadata": {
  "kernelspec": {
   "display_name": "Python 3",
   "language": "python",
   "name": "python3"
  },
  "language_info": {
   "codemirror_mode": {
    "name": "ipython",
    "version": 3
   },
   "file_extension": ".py",
   "mimetype": "text/x-python",
   "name": "python",
   "nbconvert_exporter": "python",
   "pygments_lexer": "ipython3",
   "version": "3.8.3"
  }
 },
 "nbformat": 4,
 "nbformat_minor": 4
}
