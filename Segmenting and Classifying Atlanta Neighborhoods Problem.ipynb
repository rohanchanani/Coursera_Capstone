{
 "cells": [
  {
   "cell_type": "markdown",
   "metadata": {},
   "source": [
    "<h1> Segmenting and Classifying Atlanta Neighborhoods <h1>"
   ]
  },
  {
   "cell_type": "markdown",
   "metadata": {},
   "source": [
    "<h2>Introduction-The Problem<h2>"
   ]
  },
  {
   "cell_type": "markdown",
   "metadata": {},
   "source": [
    "<p>In Atlanta, crime is a major issue. With a crime rate of 58 per 1000 residents, Atlanta is in the 2nd percentile for safety in the United States, meaning it is only safer than 2% of cities in the United States. It's violent crime rate is double the national average. I want to see if there's a meaningful correlation between the venues in a neighborhood and the crime that occurs within that neighborhood.(statistics from NeighborhoodScout.com)<p>"
   ]
  }
 ],
 "metadata": {
  "kernelspec": {
   "display_name": "Python 3",
   "language": "python",
   "name": "python3"
  },
  "language_info": {
   "codemirror_mode": {
    "name": "ipython",
    "version": 3
   },
   "file_extension": ".py",
   "mimetype": "text/x-python",
   "name": "python",
   "nbconvert_exporter": "python",
   "pygments_lexer": "ipython3",
   "version": "3.8.3"
  }
 },
 "nbformat": 4,
 "nbformat_minor": 4
}
